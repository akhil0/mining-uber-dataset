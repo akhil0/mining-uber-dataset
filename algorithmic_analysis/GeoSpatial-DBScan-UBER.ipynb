{
 "cells": [
  {
   "cell_type": "code",
   "execution_count": 14,
   "metadata": {
    "collapsed": false
   },
   "outputs": [],
   "source": [
    "import pandas as pd, numpy as np, matplotlib.pyplot as plt, time\n",
    "from sklearn.cluster import DBSCAN\n",
    "from sklearn import metrics\n",
    "from geopy.distance import great_circle\n",
    "from shapely.geometry import MultiPoint\n",
    "%matplotlib inline"
   ]
  },
  {
   "cell_type": "code",
   "execution_count": 15,
   "metadata": {
    "collapsed": false
   },
   "outputs": [],
   "source": [
    "# define the number of kilometers in one radian\n",
    "kms_per_radian = 6371.0088"
   ]
  },
  {
   "cell_type": "code",
   "execution_count": 16,
   "metadata": {
    "collapsed": false
   },
   "outputs": [
    {
     "name": "stdout",
     "output_type": "stream",
     "text": [
      "Number of Points 21946\n"
     ]
    }
   ],
   "source": [
    "# load the data set\n",
    "df = pd.read_csv('apr.csv', encoding='utf-8')\n",
    "print(\"Number of Points\",len(df)) "
   ]
  },
  {
   "cell_type": "code",
   "execution_count": 17,
   "metadata": {
    "collapsed": false
   },
   "outputs": [],
   "source": [
    "# represent points consistently as (lat, lon)\n",
    "coords = df.as_matrix(columns=['lat', 'lon'])\n",
    "\n",
    "# define epsilon as 1.5 kilometers, converted to radians for use by haversine\n",
    "epsilon = 0.3 / kms_per_radian"
   ]
  },
  {
   "cell_type": "code",
   "execution_count": 18,
   "metadata": {
    "collapsed": false
   },
   "outputs": [
    {
     "name": "stdout",
     "output_type": "stream",
     "text": [
      "85\n"
     ]
    }
   ],
   "source": [
    "start_time = time.time()\n",
    "db = DBSCAN(eps=epsilon, min_samples=10, algorithm='ball_tree', metric='haversine').fit(np.radians(coords))\n",
    "cluster_labels = db.labels_\n",
    "\n",
    "# get the number of clusters\n",
    "num_clusters = len(set(cluster_labels))\n",
    "print(num_clusters)\n",
    "# all done, print the outcome\n",
    "message = 'Clustered {:,} points down to {:,} clusters, for {:.1f}% compression in {:,.2f} seconds'\n",
    "#print(message.format(len(df), num_clusters, 100*(1 - float(num_clusters) / len(df)), time.time()-start_time))\n",
    "#print('Silhouette coefficient: {:0.03f}'.format(metrics.silhouette_score(coords, cluster_labels)))"
   ]
  },
  {
   "cell_type": "code",
   "execution_count": 19,
   "metadata": {
    "collapsed": false
   },
   "outputs": [],
   "source": [
    "# turn the clusters in to a pandas series, where each element is a cluster of points\n",
    "clusters = pd.Series([coords[cluster_labels==n] for n in range(num_clusters)])"
   ]
  },
  {
   "cell_type": "code",
   "execution_count": 20,
   "metadata": {
    "collapsed": false
   },
   "outputs": [
    {
     "name": "stdout",
     "output_type": "stream",
     "text": [
      "Number of Points in Cluster with id 0 is  8059\n",
      "Number of Points in Cluster with id 1 is  4718\n",
      "Number of Points in Cluster with id 2 is  21\n",
      "Number of Points in Cluster with id 3 is  212\n",
      "Number of Points in Cluster with id 4 is  117\n",
      "Number of Points in Cluster with id 5 is  10\n",
      "Number of Points in Cluster with id 6 is  36\n",
      "Number of Points in Cluster with id 7 is  10\n",
      "Number of Points in Cluster with id 8 is  10\n",
      "Number of Points in Cluster with id 9 is  18\n",
      "Number of Points in Cluster with id 10 is  656\n",
      "Number of Points in Cluster with id 11 is  14\n",
      "Number of Points in Cluster with id 12 is  39\n",
      "Number of Points in Cluster with id 13 is  31\n",
      "Number of Points in Cluster with id 14 is  62\n",
      "Number of Points in Cluster with id 15 is  14\n",
      "Number of Points in Cluster with id 16 is  22\n",
      "Number of Points in Cluster with id 17 is  38\n",
      "Number of Points in Cluster with id 18 is  176\n",
      "Number of Points in Cluster with id 19 is  73\n",
      "Number of Points in Cluster with id 20 is  10\n",
      "Number of Points in Cluster with id 21 is  37\n",
      "Number of Points in Cluster with id 22 is  60\n",
      "Number of Points in Cluster with id 23 is  35\n",
      "Number of Points in Cluster with id 24 is  93\n",
      "Number of Points in Cluster with id 25 is  73\n",
      "Number of Points in Cluster with id 26 is  39\n",
      "Number of Points in Cluster with id 27 is  40\n",
      "Number of Points in Cluster with id 28 is  13\n",
      "Number of Points in Cluster with id 29 is  39\n",
      "Number of Points in Cluster with id 30 is  12\n",
      "Number of Points in Cluster with id 31 is  27\n",
      "Number of Points in Cluster with id 32 is  72\n",
      "Number of Points in Cluster with id 33 is  23\n",
      "Number of Points in Cluster with id 34 is  14\n",
      "Number of Points in Cluster with id 35 is  18\n",
      "Number of Points in Cluster with id 36 is  26\n",
      "Number of Points in Cluster with id 37 is  33\n",
      "Number of Points in Cluster with id 38 is  17\n",
      "Number of Points in Cluster with id 39 is  32\n",
      "Number of Points in Cluster with id 40 is  18\n",
      "Number of Points in Cluster with id 41 is  28\n",
      "Number of Points in Cluster with id 42 is  12\n",
      "Number of Points in Cluster with id 43 is  11\n",
      "Number of Points in Cluster with id 44 is  16\n",
      "Number of Points in Cluster with id 45 is  13\n",
      "Number of Points in Cluster with id 46 is  18\n",
      "Number of Points in Cluster with id 47 is  10\n",
      "Number of Points in Cluster with id 48 is  14\n",
      "Number of Points in Cluster with id 49 is  27\n",
      "Number of Points in Cluster with id 50 is  10\n",
      "Number of Points in Cluster with id 51 is  10\n",
      "Number of Points in Cluster with id 52 is  5\n",
      "Number of Points in Cluster with id 53 is  14\n",
      "Number of Points in Cluster with id 54 is  10\n",
      "Number of Points in Cluster with id 55 is  22\n",
      "Number of Points in Cluster with id 56 is  10\n",
      "Number of Points in Cluster with id 57 is  12\n",
      "Number of Points in Cluster with id 58 is  19\n",
      "Number of Points in Cluster with id 59 is  18\n",
      "Number of Points in Cluster with id 60 is  16\n",
      "Number of Points in Cluster with id 61 is  26\n",
      "Number of Points in Cluster with id 62 is  47\n",
      "Number of Points in Cluster with id 63 is  25\n",
      "Number of Points in Cluster with id 64 is  15\n",
      "Number of Points in Cluster with id 65 is  15\n",
      "Number of Points in Cluster with id 66 is  10\n",
      "Number of Points in Cluster with id 67 is  14\n",
      "Number of Points in Cluster with id 68 is  10\n",
      "Number of Points in Cluster with id 69 is  13\n",
      "Number of Points in Cluster with id 70 is  11\n",
      "Number of Points in Cluster with id 71 is  8\n",
      "Number of Points in Cluster with id 72 is  11\n",
      "Number of Points in Cluster with id 73 is  10\n",
      "Number of Points in Cluster with id 74 is  13\n",
      "Number of Points in Cluster with id 75 is  9\n",
      "Number of Points in Cluster with id 76 is  10\n",
      "Number of Points in Cluster with id 77 is  10\n",
      "Number of Points in Cluster with id 78 is  10\n",
      "Number of Points in Cluster with id 79 is  9\n",
      "Number of Points in Cluster with id 80 is  10\n",
      "Number of Points in Cluster with id 81 is  10\n",
      "Number of Points in Cluster with id 82 is  7\n",
      "Number of Points in Cluster with id 83 is  10\n",
      "Number of Points in Cluster with id 84 is  0\n"
     ]
    }
   ],
   "source": [
    "for i,x in enumerate(clusters):\n",
    "    print(\"Number of Points in Cluster with id \"+str(i)+' is ',len(x))\n",
    "    if len(x) == 0:\n",
    "        clusters.pop(i)\n"
   ]
  },
  {
   "cell_type": "code",
   "execution_count": 21,
   "metadata": {
    "collapsed": false
   },
   "outputs": [],
   "source": [
    "def get_centermost_point(cluster):\n",
    "    try:\n",
    "        centroid = (MultiPoint(cluster).centroid.x, MultiPoint(cluster).centroid.y)\n",
    "        centermost_point = min(cluster, key=lambda point: great_circle(point, centroid).m)\n",
    "        return tuple(centermost_point)\n",
    "    except:\n",
    "        print('HIJ')\n",
    "    \n",
    "centermost_points = clusters.map(get_centermost_point)"
   ]
  },
  {
   "cell_type": "code",
   "execution_count": 27,
   "metadata": {
    "collapsed": false
   },
   "outputs": [
    {
     "name": "stdout",
     "output_type": "stream",
     "text": [
      "Coordinates of Centers\n",
      "       lat     lon\n",
      "0   40.694 -73.946\n",
      "1   40.770 -73.973\n",
      "2   40.669 -73.800\n",
      "3   40.887 -73.906\n",
      "4   40.860 -73.893\n",
      "5   40.874 -73.887\n",
      "6   40.670 -73.871\n",
      "7   40.612 -74.010\n",
      "8   40.670 -73.883\n",
      "9   40.701 -73.808\n",
      "10  40.734 -74.038\n",
      "11  40.683 -73.806\n",
      "12  40.724 -74.072\n",
      "13  40.725 -73.790\n",
      "14  40.733 -74.060\n",
      "15  40.711 -73.851\n",
      "16  40.794 -73.921\n",
      "17  40.724 -73.906\n",
      "18  40.823 -73.924\n",
      "19  40.765 -74.026\n",
      "20  40.615 -73.928\n",
      "21  40.626 -73.920\n",
      "22  40.692 -74.181\n",
      "23  40.617 -73.943\n",
      "24  40.646 -73.786\n",
      "25  40.760 -73.828\n",
      "26  40.578 -73.967\n",
      "27  40.757 -73.849\n",
      "28  40.764 -73.872\n",
      "29  40.727 -73.820\n",
      "..     ...     ...\n",
      "54  40.621 -73.931\n",
      "55  40.787 -74.044\n",
      "56  40.718 -73.803\n",
      "57  40.787 -73.837\n",
      "58  40.623 -74.013\n",
      "59  40.740 -73.614\n",
      "60  40.858 -73.867\n",
      "61  40.775 -74.017\n",
      "62  40.636 -73.914\n",
      "63  41.032 -73.769\n",
      "64  40.680 -73.844\n",
      "65  40.680 -73.862\n",
      "66  40.621 -74.006\n",
      "67  40.576 -73.981\n",
      "68  40.858 -73.906\n",
      "69  40.714 -73.786\n",
      "70  40.763 -73.815\n",
      "71  40.738 -73.906\n",
      "72  40.585 -73.949\n",
      "73  40.585 -73.959\n",
      "74  40.619 -73.993\n",
      "75  40.701 -73.816\n",
      "76  40.830 -73.892\n",
      "77  40.599 -73.939\n",
      "78  40.604 -73.987\n",
      "79  40.634 -73.925\n",
      "80  40.676 -73.874\n",
      "81  40.611 -73.921\n",
      "82  40.787 -74.002\n",
      "83  40.664 -73.886\n",
      "\n",
      "[84 rows x 2 columns]\n"
     ]
    }
   ],
   "source": [
    "# unzip the list of centermost points (lat, lon) tuples into separate lat and lon lists\n",
    "lats, lons = zip(*centermost_points)\n",
    "\n",
    "# from these lats/lons create a new df of one representative point for each cluster\n",
    "rep_points = pd.DataFrame({'lon':lons, 'lat':lats})\n",
    "print('Coordinates of Centers')\n",
    "print (rep_points)\n",
    "rep_points.to_csv('centers.csv')\n",
    "    \n"
   ]
  },
  {
   "cell_type": "code",
   "execution_count": 28,
   "metadata": {
    "collapsed": false
   },
   "outputs": [
    {
     "name": "stdout",
     "output_type": "stream",
     "text": [
      "       lat     lon  count\n",
      "0   40.694 -73.946   15.0\n",
      "1   40.770 -73.973    1.0\n",
      "2   40.669 -73.800    2.0\n",
      "3   40.887 -73.906    1.0\n",
      "4   40.860 -73.893    2.0\n",
      "5   40.874 -73.887    1.0\n",
      "6   40.670 -73.871    1.0\n",
      "7   40.612 -74.010   11.0\n",
      "8   40.670 -73.883    9.0\n",
      "9   40.701 -73.808    4.0\n",
      "10  40.734 -74.038    1.0\n",
      "11  40.683 -73.806    2.0\n",
      "12  40.724 -74.072    3.0\n",
      "13  40.725 -73.790    1.0\n",
      "14  40.733 -74.060    1.0\n",
      "15  40.711 -73.851    1.0\n",
      "16  40.794 -73.921    3.0\n",
      "17  40.724 -73.906    1.0\n",
      "18  40.823 -73.924    1.0\n",
      "19  40.765 -74.026    1.0\n",
      "20  40.615 -73.928    1.0\n",
      "21  40.626 -73.920    2.0\n",
      "22  40.692 -74.181   20.0\n",
      "23  40.617 -73.943    1.0\n",
      "24  40.646 -73.786    5.0\n",
      "25  40.760 -73.828    4.0\n",
      "26  40.578 -73.967    1.0\n",
      "27  40.757 -73.849    5.0\n",
      "28  40.764 -73.872    2.0\n",
      "29  40.727 -73.820    1.0\n",
      "..     ...     ...    ...\n",
      "54  40.621 -73.931    1.0\n",
      "55  40.787 -74.044    1.0\n",
      "56  40.718 -73.803    1.0\n",
      "57  40.787 -73.837    2.0\n",
      "58  40.623 -74.013    1.0\n",
      "59  40.740 -73.614    2.0\n",
      "60  40.858 -73.867    1.0\n",
      "61  40.775 -74.017    2.0\n",
      "62  40.636 -73.914    1.0\n",
      "63  41.032 -73.769    6.0\n",
      "64  40.680 -73.844    1.0\n",
      "65  40.680 -73.862    2.0\n",
      "66  40.621 -74.006    1.0\n",
      "67  40.576 -73.981    1.0\n",
      "68  40.858 -73.906    1.0\n",
      "69  40.714 -73.786    2.0\n",
      "70  40.763 -73.815    2.0\n",
      "71  40.738 -73.906    1.0\n",
      "72  40.585 -73.949    1.0\n",
      "73  40.585 -73.959    1.0\n",
      "74  40.619 -73.993    3.0\n",
      "75  40.701 -73.816    1.0\n",
      "76  40.830 -73.892    3.0\n",
      "77  40.599 -73.939    9.0\n",
      "78  40.604 -73.987    1.0\n",
      "79  40.634 -73.925    1.0\n",
      "80  40.676 -73.874    1.0\n",
      "81  40.611 -73.921    3.0\n",
      "82  40.787 -74.002    1.0\n",
      "83  40.664 -73.886    1.0\n",
      "\n",
      "[84 rows x 3 columns]\n"
     ]
    }
   ],
   "source": [
    "# pull row from original data set where lat/lon match the lat/lon of each row of representative points\n",
    "# that way we get the full details like city, country, and date from the original dataframe\n",
    "rs = rep_points.apply(lambda row: df[(df['lat']==row['lat']) & (df['lon']==row['lon'])].iloc[0], axis=1)\n",
    "rs.to_csv('closest-points-to-centers.csv', encoding='utf-8')\n",
    "print(rs)"
   ]
  },
  {
   "cell_type": "code",
   "execution_count": 32,
   "metadata": {
    "collapsed": false,
    "scrolled": false
   },
   "outputs": [
    {
     "data": {
      "image/png": "[encoded data removed]",
      "text/plain": [
       "<matplotlib.figure.Figure at 0x7f53225c0eb8>"
      ]
     },
     "metadata": {},
     "output_type": "display_data"
    }
   ],
   "source": [
    "# plot the final reduced set of coordinate points vs the original full set\n",
    "fig, ax = plt.subplots(figsize=[10, 6])\n",
    "#df_scatter = ax.scatter(df['lon'], df['lat'], c='w', alpha=0.9, s=3)\n",
    "rs_scatter = ax.scatter(rep_points['lon'], rep_points['lat'], c='r', edgecolor='None', alpha=0.7, s=50)\n",
    "ax.set_title('Full data set vs DBSCAN reduced set')\n",
    "ax.set_xlabel('Longitude')\n",
    "ax.set_ylabel('Latitude')\n",
    "ax.legend([rs_scatter], ['Centers of Clusters'], loc='upper right')\n",
    "plt.show()"
   ]
  },
  {
   "cell_type": "code",
   "execution_count": null,
   "metadata": {
    "collapsed": true
   },
   "outputs": [],
   "source": []
  }
 ],
 "metadata": {
  "anaconda-cloud": {},
  "kernelspec": {
   "display_name": "Python 3",
   "language": "python",
   "name": "python3"
  },
  "language_info": {
   "codemirror_mode": {
    "name": "ipython",
    "version": 3
   },
   "file_extension": ".py",
   "mimetype": "text/x-python",
   "name": "python",
   "nbconvert_exporter": "python",
   "pygments_lexer": "ipython3",
   "version": "3.5.2"
  }
 },
 "nbformat": 4,
 "nbformat_minor": 0
}

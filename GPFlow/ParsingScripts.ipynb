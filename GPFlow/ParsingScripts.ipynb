{
 "cells": [
  {
   "cell_type": "code",
   "execution_count": 19,
   "metadata": {
    "collapsed": false
   },
   "outputs": [],
   "source": [
    "import csv\n",
    "import time\n",
    "import datetime\n",
    "from dateutil import parser\n",
    "import collections\n",
    "\n",
    "Year Month Day Max.Temp Min.Temp Rain Snow Ice(on Ground)\n",
    "\n",
    "lookup = {}\n",
    "with open('uber-raw-data-apr14.csv', 'rb') as f:\n",
    "    reader = csv.reader(f)\n",
    "    for row in reader:\n",
    "        times = row[0][:-5]+'00:00'\n",
    "        d = parser.parse(times)\n",
    "        timestamp = int(time.mktime(d.timetuple()))\n",
    "        lat = row[1]\n",
    "        lon = row[2]\n",
    "        \n",
    "        if timestamp in lookup:\n",
    "            lookup[timestamp] += 1\n",
    "        else:\n",
    "            lookup[timestamp] = 1\n",
    "\n",
    "od = collections.OrderedDict(sorted(lookup.items()))\n",
    "with open('result.csv', 'wb') as csv_file:\n",
    "    writer = csv.writer(csv_file)\n",
    "    i = 1;\n",
    "    for key, value in od.items():\n",
    "        writer.writerow([datetime.datetime.fromtimestamp(int(key)).strftime('%Y-%m-%d %H:%M:%S'),key,i, value])\n",
    "        i+=1"
   ]
  },
  {
   "cell_type": "code",
   "execution_count": 38,
   "metadata": {
    "collapsed": true
   },
   "outputs": [],
   "source": [
    "def parse_weather(filenames):\n",
    "    lookup = {}\n",
    "    for filename in filenames:\n",
    "        with open(filename, 'rb') as f:\n",
    "            reader = csv.reader(f)\n",
    "            for tokens in reader:\n",
    "                year = tokens[0]\n",
    "                month = tokens[1]\n",
    "                day = tokens[2]\n",
    "\n",
    "                max_temp = tokens[3]\n",
    "                min_temp = tokens[4]\n",
    "                rain = tokens[5]\n",
    "                avg_temp = (float(max_temp) + float(min_temp)) / 2.0;\n",
    "\n",
    "                times = str(year)+\"-\"+str(month)+\"-\"+str(day)\n",
    "\n",
    "                d = parser.parse(times)\n",
    "                timestamp = int(time.mktime(d.timetuple()))\n",
    "                lookup[timestamp] = (avg_temp,rain,max_temp,min_temp)\n",
    "\n",
    "    od = collections.OrderedDict(sorted(lookup.items()))\n",
    "    with open('weather_result.csv', 'wb') as csv_file:\n",
    "        writer = csv.writer(csv_file)\n",
    "        i = 1;\n",
    "        for key, value in od.items():\n",
    "            writer.writerow([datetime.datetime.fromtimestamp(int(key)).strftime('%Y-%m-%d'),key,i,value[0],value[1],value[2],value[3]])\n",
    "            i+=24"
   ]
  },
  {
   "cell_type": "code",
   "execution_count": 39,
   "metadata": {
    "collapsed": false
   },
   "outputs": [],
   "source": [
    "parse_weather(['april.csv','may.csv','june.csv','july.csv','august.csv','september.csv'])"
   ]
  }
 ],
 "metadata": {
  "kernelspec": {
   "display_name": "Python 2",
   "language": "python",
   "name": "python2"
  },
  "language_info": {
   "codemirror_mode": {
    "name": "ipython",
    "version": 2
   },
   "file_extension": ".py",
   "mimetype": "text/x-python",
   "name": "python",
   "nbconvert_exporter": "python",
   "pygments_lexer": "ipython2",
   "version": "2.7.12"
  }
 },
 "nbformat": 4,
 "nbformat_minor": 2
}

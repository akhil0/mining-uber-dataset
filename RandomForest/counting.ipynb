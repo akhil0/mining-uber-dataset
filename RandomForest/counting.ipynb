{
 "cells": [
  {
   "cell_type": "code",
   "execution_count": 1,
   "metadata": {
    "collapsed": false,
    "deletable": true,
    "editable": true
   },
   "outputs": [],
   "source": [
    "import numpy as np\n",
    "import matplotlib.pyplot as plt\n",
    "%matplotlib inline\n",
    "import pandas as pd\n",
    "import numpy as np\n",
    "from sklearn.preprocessing import LabelEncoder  \n",
    "from sklearn.ensemble import RandomForestRegressor\n",
    "import time\n",
    "import datetime\n",
    "from dateutil import parser\n",
    "import collections"
   ]
  },
  {
   "cell_type": "code",
   "execution_count": 3,
   "metadata": {
    "collapsed": false,
    "deletable": true,
    "editable": true
   },
   "outputs": [],
   "source": [
    "#x = np.random.rand(10000,2)\n",
    "x=pd.read_csv('results.csv', sep=',',header=None)\n",
    "x = x.values"
   ]
  },
  {
   "cell_type": "code",
   "execution_count": 4,
   "metadata": {
    "collapsed": false,
    "deletable": true,
    "editable": true
   },
   "outputs": [],
   "source": [
    "dx0 = 0.001\n",
    "dx1 = 0.001"
   ]
  },
  {
   "cell_type": "code",
   "execution_count": 5,
   "metadata": {
    "collapsed": true,
    "deletable": true,
    "editable": true
   },
   "outputs": [],
   "source": [
    "def minmax_scaling(array, columns, min_val=0, max_val=1):\n",
    "    ary_new = array.astype(float)\n",
    "    if len(ary_new.shape) == 1:\n",
    "        ary_new = ary_new[:, np.newaxis]\n",
    "\n",
    "    if isinstance(ary_new, pd.DataFrame):\n",
    "        ary_newt = ary_new.loc\n",
    "    elif isinstance(ary_new, np.ndarray):\n",
    "        ary_newt = ary_new\n",
    "    else:\n",
    "        raise AttributeError('Input array must be a pandas'\n",
    "                             'DataFrame or NumPy array')\n",
    "\n",
    "    numerator = ary_newt[:, columns] - ary_newt[:, columns].min(axis=0)\n",
    "    denominator = (ary_newt[:, columns].max(axis=0) -\n",
    "                   ary_newt[:, columns].min(axis=0))\n",
    "    ary_newt[:, columns] = numerator / denominator\n",
    "\n",
    "    if not min_val == 0 and not max_val == 1:\n",
    "        ary_newt[:, columns] = (ary_newt[:, columns] *\n",
    "                                (max_val - min_val) + min_val)\n",
    "\n",
    "    return ary_newt[:, columns]"
   ]
  },
  {
   "cell_type": "code",
   "execution_count": 6,
   "metadata": {
    "collapsed": false,
    "deletable": true,
    "editable": true
   },
   "outputs": [],
   "source": [
    "y = minmax_scaling(x, columns=[0, 1])"
   ]
  },
  {
   "cell_type": "code",
   "execution_count": 7,
   "metadata": {
    "collapsed": false,
    "deletable": true,
    "editable": true
   },
   "outputs": [],
   "source": [
    "i = np.floor(y[:,0]/dx0).astype('i')\n",
    "j = np.floor(y[:,1]/dx1).astype('i')\n",
    "gx = np.arange(0.5*dx0,1,dx0)\n",
    "gy = np.arange(0.5*dx1,1,dx1)"
   ]
  },
  {
   "cell_type": "code",
   "execution_count": 8,
   "metadata": {
    "collapsed": false,
    "deletable": true,
    "editable": true
   },
   "outputs": [],
   "source": [
    "from collections import defaultdict\n",
    "counts = np.zeros((len(gx),len(gy)))\n",
    "for n in range(len(i)):\n",
    "    try:\n",
    "        counts[i[n]-1][j[n]-1] += 1\n",
    "    except:\n",
    "        print(n)"
   ]
  },
  {
   "cell_type": "code",
   "execution_count": 95,
   "metadata": {
    "collapsed": false,
    "deletable": true,
    "editable": true
   },
   "outputs": [
    {
     "data": {
      "text/plain": [
       "<function matplotlib.pyplot.colorbar>"
      ]
     },
     "execution_count": 95,
     "metadata": {},
     "output_type": "execute_result"
    },
    {
     "data": {
      "image/png": "[encoded data removed]",
      "text/plain": [
       "<matplotlib.figure.Figure at 0x7f2c69c3bbe0>"
      ]
     },
     "metadata": {},
     "output_type": "display_data"
    }
   ],
   "source": [
    "plt.imshow(counts)\n",
    "plt.xlim(300,400)\n",
    "plt.ylim(500,625)\n",
    "plt.colorbar"
   ]
  },
  {
   "cell_type": "code",
   "execution_count": 9,
   "metadata": {
    "collapsed": false,
    "deletable": true,
    "editable": true
   },
   "outputs": [],
   "source": [
    "latlongmap = {}\n",
    "for num in range(len(x)):\n",
    "    latlongmap[(x[num][0], x[num][1])] = (i[num],j[num])"
   ]
  },
  {
   "cell_type": "code",
   "execution_count": 10,
   "metadata": {
    "collapsed": true,
    "deletable": true,
    "editable": true
   },
   "outputs": [],
   "source": [
    "class Pair:\n",
    "    def __init__(self, lat, long):\n",
    "        self.lat = lat\n",
    "        self.long = long\n",
    "\n",
    "    def __hash__(self):\n",
    "        return hash((self.lat, self.long))\n",
    "\n",
    "    def __eq__(self, other):\n",
    "        return (self.lat, self.long) == (other.lat, other.long)"
   ]
  },
  {
   "cell_type": "code",
   "execution_count": 11,
   "metadata": {
    "collapsed": true,
    "deletable": true,
    "editable": true
   },
   "outputs": [],
   "source": [
    "latlongmap = {}\n",
    "for num in range(len(x)):\n",
    "    latlongmap[Pair(x[num][0],x[num][1])] = Pair(i[num],j[num])"
   ]
  },
  {
   "cell_type": "code",
   "execution_count": 12,
   "metadata": {
    "collapsed": false,
    "deletable": true,
    "editable": true
   },
   "outputs": [],
   "source": [
    "import math\n",
    "def truncate(number, digits) -> float:\n",
    "    stepper = pow(10.0, digits)\n",
    "    return math.trunc(stepper * number) / stepper"
   ]
  },
  {
   "cell_type": "code",
   "execution_count": 124,
   "metadata": {
    "collapsed": false,
    "deletable": true,
    "editable": true
   },
   "outputs": [
    {
     "name": "stderr",
     "output_type": "stream",
     "text": [
      "/opt/conda/lib/python3.5/site-packages/IPython/core/interactiveshell.py:2821: DtypeWarning: Columns (1,2) have mixed types. Specify dtype option on import or set low_memory=False.\n",
      "  if self.run_code(code, result):\n",
      "/opt/conda/lib/python3.5/site-packages/IPython/core/interactiveshell.py:2827: DtypeWarning: Columns (1,2) have mixed types. Specify dtype option on import or set low_memory=False.\n",
      "  if self.run_code(code, result):\n"
     ]
    }
   ],
   "source": [
    "def create_parsed(file1, file2):\n",
    "    fil = pd.read_csv(file1, sep = ',', header=None)\n",
    "    fil = fil.values\n",
    "    fil = fil[1:]\n",
    "    wfil = open(file2, 'w')\n",
    "    for i in range(len(fil)):\n",
    "   \n",
    "        x = truncate(float(fil[i][1]),3)\n",
    "        y = truncate(float(fil[i][2]),3)\n",
    "        if(Pair(x,y) in latlongmap):\n",
    "            grid =  latlongmap[Pair(x,y)]\n",
    "            try:\n",
    "                row = fil[i]\n",
    "                times = row[0][:-5]+'00:00'\n",
    "                #print(times)\n",
    "                d = parser.parse(times)\n",
    "                timestamp = int(time.mktime(d.timetuple()))\n",
    "                format(grid.lat)\n",
    "                format(grid.long)\n",
    "                wfil.write(str(timestamp)+','+ format(grid.lat) +','+ format(grid.long))\n",
    "                wfil.write('\\n')\n",
    "            except:\n",
    "                pass\n",
    "    wfil.close()\n",
    "\n",
    "    \n",
    "create_parsed('uber-raw-data-apr14.csv', 'april_parsed.csv')\n",
    "create_parsed('uber-raw-data-may14.csv', 'may_parsed.csv')\n",
    "create_parsed('uber-raw-data-jun14.csv', 'june_parsed.csv')\n",
    "create_parsed('uber-raw-data-jul14.csv', 'july_parsed.csv')\n",
    "create_parsed('uber-raw-data-aug14.csv', 'august_parsed.csv')\n",
    "create_parsed('uber-raw-data-sep14.csv', 'september_parsed.csv')"
   ]
  },
  {
   "cell_type": "code",
   "execution_count": 13,
   "metadata": {
    "collapsed": false,
    "deletable": true,
    "editable": true
   },
   "outputs": [],
   "source": [
    "aprilfile = pd.read_csv('april_parsed.csv', sep=',',header=None)\n",
    "mayfile = pd.read_csv('may_parsed.csv', sep=',',header=None)\n",
    "junefile = pd.read_csv('june_parsed.csv', sep=',',header=None)\n",
    "julyfile = pd.read_csv('july_parsed.csv', sep=',',header=None)\n",
    "augustfile = pd.read_csv('august_parsed.csv', sep=',',header=None)\n",
    "septemberfile = pd.read_csv('september_parsed.csv', sep=',',header=None)"
   ]
  },
  {
   "cell_type": "code",
   "execution_count": 14,
   "metadata": {
    "collapsed": false,
    "deletable": true,
    "editable": true
   },
   "outputs": [
    {
     "data": {
      "text/plain": [
       "2547466"
      ]
     },
     "execution_count": 14,
     "metadata": {},
     "output_type": "execute_result"
    }
   ],
   "source": [
    "y = aprilfile.append(mayfile).append(junefile).append(julyfile).append(augustfile)\n",
    "y = y.values\n",
    "len(y)"
   ]
  },
  {
   "cell_type": "code",
   "execution_count": 15,
   "metadata": {
    "collapsed": false,
    "deletable": true,
    "editable": true
   },
   "outputs": [],
   "source": [
    "#conaitns a hashMap of (lat,lon,epoch time) as key and number of rides as value\n",
    "bin_map = {}\n",
    "for i in range(len(y)):\n",
    "    t = (y[i][1],y[i][2],y[i][0])\n",
    "    if(t in bin_map):\n",
    "        count = bin_map[t]\n",
    "        bin_map[t] = count + 1;\n",
    "    else:\n",
    "        bin_map[t] = 1;"
   ]
  },
  {
   "cell_type": "code",
   "execution_count": 16,
   "metadata": {
    "collapsed": false,
    "deletable": true,
    "editable": true
   },
   "outputs": [
    {
     "data": {
      "text/plain": [
       "RandomForestRegressor(bootstrap=True, criterion='mse', max_depth=None,\n",
       "           max_features='auto', max_leaf_nodes=None,\n",
       "           min_impurity_split=1e-07, min_samples_leaf=1,\n",
       "           min_samples_split=1, min_weight_fraction_leaf=0.0,\n",
       "           n_estimators=10, n_jobs=1, oob_score=False, random_state=None,\n",
       "           verbose=0, warm_start=False)"
      ]
     },
     "execution_count": 16,
     "metadata": {},
     "output_type": "execute_result"
    }
   ],
   "source": [
    "train_points = []\n",
    "train_labels = []\n",
    "\n",
    "for key, value in bin_map.items():\n",
    "    train_points.append(key)\n",
    "    train_labels.append(value)\n",
    "\n",
    "aX = np.asarray(train_points) \n",
    "ay = np.asarray(train_labels)\n",
    "\n",
    "Regressor = RandomForestRegressor(min_samples_split=1)\n",
    "Regressor.fit(aX, ay)"
   ]
  },
  {
   "cell_type": "code",
   "execution_count": 17,
   "metadata": {
    "collapsed": true,
    "deletable": true,
    "editable": true
   },
   "outputs": [],
   "source": [
    "#read the parsed may file \n",
    "test_values  = septemberfile.values\n",
    "test_map = {}\n",
    "for i in range(len(test_values)):\n",
    "    t = (test_values[i][1],test_values[i][2],test_values[i][0])\n",
    "    if(t in test_map):\n",
    "        count = test_map[t]\n",
    "        test_map[t] = count + 1;\n",
    "    else:\n",
    "        test_map[t] = 1;       \n",
    "\n",
    "test_points = []\n",
    "test_labels = []\n",
    "\n",
    "for key, value in test_map.items():\n",
    "    test_points.append(key)\n",
    "    test_labels.append(value)\n",
    "\n",
    "#predications for may 1000 values\n",
    "test_points_np = np.asarray(test_points)\n",
    "x = Regressor.predict(test_points_np)\n",
    "true_labels = np.asarray(test_labels)\n",
    "\n",
    "delta = x-true_labels\n",
    "mean = np.mean(delta)\n",
    "std = np.std(delta)\n",
    "var = np.var(delta)"
   ]
  },
  {
   "cell_type": "code",
   "execution_count": 132,
   "metadata": {
    "collapsed": false,
    "deletable": true,
    "editable": true
   },
   "outputs": [
    {
     "data": {
      "text/plain": [
       "1.7860616375424783"
      ]
     },
     "execution_count": 132,
     "metadata": {},
     "output_type": "execute_result"
    }
   ],
   "source": [
    "std"
   ]
  },
  {
   "cell_type": "code",
   "execution_count": 133,
   "metadata": {
    "collapsed": false,
    "deletable": true,
    "editable": true
   },
   "outputs": [
    {
     "name": "stdout",
     "output_type": "stream",
     "text": [
      "89.9521360364261\n"
     ]
    }
   ],
   "source": [
    "true_count = 0\n",
    "for i in delta.tolist():\n",
    "    if abs(i) <= 2:\n",
    "        true_count+=1\n",
    "\n",
    "print(true_count*100/len(delta))"
   ]
  },
  {
   "cell_type": "code",
   "execution_count": 135,
   "metadata": {
    "collapsed": false
   },
   "outputs": [
    {
     "data": {
      "text/plain": [
       "[<matplotlib.lines.Line2D at 0x7f2c46837550>]"
      ]
     },
     "execution_count": 135,
     "metadata": {},
     "output_type": "execute_result"
    },
    {
     "data": {
      "image/png": "[encoded data removed]",
      "text/plain": [
       "<matplotlib.figure.Figure at 0x7f2c69af0e10>"
      ]
     },
     "metadata": {},
     "output_type": "display_data"
    }
   ],
   "source": [
    "plt.plot(x-true_labels)\n",
    "#plt.plot(true_labels)\n"
   ]
  },
  {
   "cell_type": "code",
   "execution_count": 18,
   "metadata": {
    "collapsed": false
   },
   "outputs": [
    {
     "name": "stdout",
     "output_type": "stream",
     "text": [
      "Root Mean Squared Error 1.79140886683\n"
     ]
    }
   ],
   "source": [
    "from numpy import mean, sqrt, square, arange\n",
    "rms = sqrt(mean(square(delta)))\n",
    "print('Root Mean Squared Error', rms)"
   ]
  },
  {
   "cell_type": "code",
   "execution_count": null,
   "metadata": {
    "collapsed": true
   },
   "outputs": [],
   "source": []
  }
 ],
 "metadata": {
  "kernelspec": {
   "display_name": "Python 3",
   "language": "python",
   "name": "python3"
  },
  "language_info": {
   "codemirror_mode": {
    "name": "ipython",
    "version": 3
   },
   "file_extension": ".py",
   "mimetype": "text/x-python",
   "name": "python",
   "nbconvert_exporter": "python",
   "pygments_lexer": "ipython3",
   "version": "3.5.2"
  }
 },
 "nbformat": 4,
 "nbformat_minor": 2
}

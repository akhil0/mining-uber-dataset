{
 "cells": [
  {
   "cell_type": "code",
   "execution_count": 103,
   "metadata": {
    "collapsed": false,
    "deletable": true,
    "editable": true
   },
   "outputs": [],
   "source": [
    "import numpy as np\n",
    "import matplotlib.pyplot as plt\n",
    "%matplotlib inline\n",
    "import pandas as pd"
   ]
  },
  {
   "cell_type": "code",
   "execution_count": 104,
   "metadata": {
    "collapsed": false,
    "deletable": true,
    "editable": true
   },
   "outputs": [],
   "source": [
    "#x = np.random.rand(10000,2)\n",
    "x=pd.read_csv('fkthat.csv', sep=',',header=None)\n",
    "x = x.values"
   ]
  },
  {
   "cell_type": "code",
   "execution_count": 105,
   "metadata": {
    "collapsed": false,
    "deletable": true,
    "editable": true
   },
   "outputs": [],
   "source": [
    "dx0 = 0.01\n",
    "dx1 = 0.01"
   ]
  },
  {
   "cell_type": "code",
   "execution_count": 106,
   "metadata": {
    "collapsed": true,
    "deletable": true,
    "editable": true
   },
   "outputs": [],
   "source": [
    "def minmax_scaling(array, columns, min_val=0, max_val=1):\n",
    "    ary_new = array.astype(float)\n",
    "    if len(ary_new.shape) == 1:\n",
    "        ary_new = ary_new[:, np.newaxis]\n",
    "\n",
    "    if isinstance(ary_new, pd.DataFrame):\n",
    "        ary_newt = ary_new.loc\n",
    "    elif isinstance(ary_new, np.ndarray):\n",
    "        ary_newt = ary_new\n",
    "    else:\n",
    "        raise AttributeError('Input array must be a pandas'\n",
    "                             'DataFrame or NumPy array')\n",
    "\n",
    "    numerator = ary_newt[:, columns] - ary_newt[:, columns].min(axis=0)\n",
    "    denominator = (ary_newt[:, columns].max(axis=0) -\n",
    "                   ary_newt[:, columns].min(axis=0))\n",
    "    ary_newt[:, columns] = numerator / denominator\n",
    "\n",
    "    if not min_val == 0 and not max_val == 1:\n",
    "        ary_newt[:, columns] = (ary_newt[:, columns] *\n",
    "                                (max_val - min_val) + min_val)\n",
    "\n",
    "    return ary_newt[:, columns]"
   ]
  },
  {
   "cell_type": "code",
   "execution_count": 107,
   "metadata": {
    "collapsed": false,
    "deletable": true,
    "editable": true
   },
   "outputs": [],
   "source": [
    "y = minmax_scaling(x, columns=[0, 1])"
   ]
  },
  {
   "cell_type": "code",
   "execution_count": 108,
   "metadata": {
    "collapsed": false,
    "deletable": true,
    "editable": true
   },
   "outputs": [],
   "source": [
    "i = np.floor(y[:,0]/dx0).astype('i')\n",
    "j = np.floor(y[:,1]/dx1).astype('i')\n",
    "gx = np.arange(0.5*dx0,1,dx0)\n",
    "gy = np.arange(0.5*dx1,1,dx1)"
   ]
  },
  {
   "cell_type": "code",
   "execution_count": 109,
   "metadata": {
    "collapsed": false,
    "deletable": true,
    "editable": true
   },
   "outputs": [],
   "source": [
    "from collections import defaultdict\n",
    "counts = np.zeros((len(gx),len(gy)))\n",
    "for n in range(len(i)):\n",
    "    try:\n",
    "        counts[i[n]-1][j[n]-1] += 1\n",
    "    except:\n",
    "        print(n)"
   ]
  },
  {
   "cell_type": "code",
   "execution_count": 110,
   "metadata": {
    "collapsed": false,
    "deletable": true,
    "editable": true
   },
   "outputs": [
    {
     "data": {
      "text/plain": [
       "<function matplotlib.pyplot.colorbar>"
      ]
     },
     "execution_count": 110,
     "metadata": {},
     "output_type": "execute_result"
    },
    {
     "data": {
      "image/png": "[encoded data removed]",
      "text/plain": [
       "<matplotlib.figure.Figure at 0x7ff596726d30>"
      ]
     },
     "metadata": {},
     "output_type": "display_data"
    }
   ],
   "source": [
    "plt.imshow(counts)\n",
    "plt.xlim(20,50)\n",
    "plt.ylim(45,65)\n",
    "plt.colorbar"
   ]
  },
  {
   "cell_type": "code",
   "execution_count": 111,
   "metadata": {
    "collapsed": false
   },
   "outputs": [],
   "source": [
    "latlongmap = {}\n",
    "for num in range(len(x)):\n",
    "    latlongmap[(x[num][0], x[num][1])] = (i[num],j[num])"
   ]
  },
  {
   "cell_type": "code",
   "execution_count": 112,
   "metadata": {
    "collapsed": true
   },
   "outputs": [],
   "source": [
    "class Pair:\n",
    "    def __init__(self, lat, long):\n",
    "        self.lat = lat\n",
    "        self.long = long\n",
    "\n",
    "    def __hash__(self):\n",
    "        return hash((self.lat, self.long))\n",
    "\n",
    "    def __eq__(self, other):\n",
    "        return (self.lat, self.long) == (other.lat, other.long)"
   ]
  },
  {
   "cell_type": "code",
   "execution_count": 113,
   "metadata": {
    "collapsed": true
   },
   "outputs": [],
   "source": [
    "latlongmap = {}\n",
    "for num in range(len(x)):\n",
    "    latlongmap[Pair(x[num][0],x[num][1])] = Pair(i[num],j[num])"
   ]
  },
  {
   "cell_type": "code",
   "execution_count": 114,
   "metadata": {
    "collapsed": false
   },
   "outputs": [
    {
     "name": "stderr",
     "output_type": "stream",
     "text": [
      "/opt/conda/lib/python3.5/site-packages/IPython/core/interactiveshell.py:2717: DtypeWarning: Columns (1,2) have mixed types. Specify dtype option on import or set low_memory=False.\n",
      "  interactivity=interactivity, compiler=compiler, result=result)\n"
     ]
    }
   ],
   "source": [
    "apr = pd.read_csv('./uber-raw-data-apr14.csv', sep=',',header=None)\n",
    "apr = apr.values"
   ]
  },
  {
   "cell_type": "code",
   "execution_count": 115,
   "metadata": {
    "collapsed": false
   },
   "outputs": [],
   "source": [
    "apr = apr[1:]"
   ]
  },
  {
   "cell_type": "code",
   "execution_count": 116,
   "metadata": {
    "collapsed": false
   },
   "outputs": [
    {
     "data": {
      "text/plain": [
       "564516"
      ]
     },
     "execution_count": 116,
     "metadata": {},
     "output_type": "execute_result"
    }
   ],
   "source": [
    "len(apr)"
   ]
  },
  {
   "cell_type": "code",
   "execution_count": 117,
   "metadata": {
    "collapsed": false
   },
   "outputs": [
    {
     "data": {
      "text/plain": [
       "-73.9549"
      ]
     },
     "execution_count": 117,
     "metadata": {},
     "output_type": "execute_result"
    }
   ],
   "source": [
    "float(apr[0][2])"
   ]
  },
  {
   "cell_type": "code",
   "execution_count": 118,
   "metadata": {
    "collapsed": false
   },
   "outputs": [],
   "source": [
    "import math\n",
    "def truncate(number, digits) -> float:\n",
    "    stepper = pow(10.0, digits)\n",
    "    return math.trunc(stepper * number) / stepper"
   ]
  },
  {
   "cell_type": "code",
   "execution_count": 119,
   "metadata": {
    "collapsed": false
   },
   "outputs": [
    {
     "name": "stdout",
     "output_type": "stream",
     "text": [
      "410893\n"
     ]
    }
   ],
   "source": [
    "f = open('april_parsed.txt','w');\n",
    "\n",
    "count = 0;\n",
    "for i in range(len(apr)):\n",
    "   \n",
    "    x = truncate(float(apr[i][1]),3)\n",
    "    y = truncate(float(apr[i][2]),3)\n",
    "    if(Pair(x,y) in latlongmap):\n",
    "        grid =  latlongmap[Pair(x,y)]\n",
    "        #print(grid.lat)\n",
    "        #print(grid.long)\n",
    "        count = count + 1;\n",
    "        try:\n",
    "            format(grid.lat)\n",
    "            format(grid.long)\n",
    "            f.write(apr[i][0]+','+str(apr[i][1])+','+str(apr[i][2])+','+apr[i][3]+','+ format(grid.lat) +','+ format(grid.long))\n",
    "            f.write('\\n')\n",
    "        except:\n",
    "            pass\n",
    "\n",
    "f.close()\n",
    "print(count)"
   ]
  },
  {
   "cell_type": "code",
   "execution_count": null,
   "metadata": {
    "collapsed": false
   },
   "outputs": [],
   "source": [
    "\n"
   ]
  },
  {
   "cell_type": "code",
   "execution_count": null,
   "metadata": {
    "collapsed": true
   },
   "outputs": [],
   "source": []
  }
 ],
 "metadata": {
  "kernelspec": {
   "display_name": "Python 3",
   "language": "python",
   "name": "python3"
  },
  "language_info": {
   "codemirror_mode": {
    "name": "ipython",
    "version": 3
   },
   "file_extension": ".py",
   "mimetype": "text/x-python",
   "name": "python",
   "nbconvert_exporter": "python",
   "pygments_lexer": "ipython3",
   "version": "3.5.2"
  }
 },
 "nbformat": 4,
 "nbformat_minor": 2
}

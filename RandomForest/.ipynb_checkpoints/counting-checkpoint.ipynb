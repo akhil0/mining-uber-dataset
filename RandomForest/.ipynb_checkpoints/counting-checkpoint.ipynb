{
 "cells": [
  {
   "cell_type": "code",
   "execution_count": 75,
   "metadata": {
    "collapsed": false,
    "deletable": true,
    "editable": true
   },
   "outputs": [],
   "source": [
    "import numpy as np\n",
    "import matplotlib.pyplot as plt\n",
    "%matplotlib inline\n",
    "import pandas as pd\n",
    "import numpy as np\n",
    "from sklearn.preprocessing import LabelEncoder  \n",
    "from sklearn.ensemble import RandomForestRegressor\n",
    "import time\n",
    "import datetime\n",
    "from dateutil import parser\n",
    "import collections"
   ]
  },
  {
   "cell_type": "code",
   "execution_count": 76,
   "metadata": {
    "collapsed": false,
    "deletable": true,
    "editable": true
   },
   "outputs": [],
   "source": [
    "#x = np.random.rand(10000,2)\n",
    "x=pd.read_csv('results.csv', sep=',',header=None)\n",
    "x = x.values"
   ]
  },
  {
   "cell_type": "code",
   "execution_count": 90,
   "metadata": {
    "collapsed": false,
    "deletable": true,
    "editable": true
   },
   "outputs": [],
   "source": [
    "dx0 = 0.001\n",
    "dx1 = 0.001"
   ]
  },
  {
   "cell_type": "code",
   "execution_count": 91,
   "metadata": {
    "collapsed": true,
    "deletable": true,
    "editable": true
   },
   "outputs": [],
   "source": [
    "def minmax_scaling(array, columns, min_val=0, max_val=1):\n",
    "    ary_new = array.astype(float)\n",
    "    if len(ary_new.shape) == 1:\n",
    "        ary_new = ary_new[:, np.newaxis]\n",
    "\n",
    "    if isinstance(ary_new, pd.DataFrame):\n",
    "        ary_newt = ary_new.loc\n",
    "    elif isinstance(ary_new, np.ndarray):\n",
    "        ary_newt = ary_new\n",
    "    else:\n",
    "        raise AttributeError('Input array must be a pandas'\n",
    "                             'DataFrame or NumPy array')\n",
    "\n",
    "    numerator = ary_newt[:, columns] - ary_newt[:, columns].min(axis=0)\n",
    "    denominator = (ary_newt[:, columns].max(axis=0) -\n",
    "                   ary_newt[:, columns].min(axis=0))\n",
    "    ary_newt[:, columns] = numerator / denominator\n",
    "\n",
    "    if not min_val == 0 and not max_val == 1:\n",
    "        ary_newt[:, columns] = (ary_newt[:, columns] *\n",
    "                                (max_val - min_val) + min_val)\n",
    "\n",
    "    return ary_newt[:, columns]"
   ]
  },
  {
   "cell_type": "code",
   "execution_count": 92,
   "metadata": {
    "collapsed": false,
    "deletable": true,
    "editable": true
   },
   "outputs": [],
   "source": [
    "y = minmax_scaling(x, columns=[0, 1])"
   ]
  },
  {
   "cell_type": "code",
   "execution_count": 93,
   "metadata": {
    "collapsed": false,
    "deletable": true,
    "editable": true
   },
   "outputs": [],
   "source": [
    "i = np.floor(y[:,0]/dx0).astype('i')\n",
    "j = np.floor(y[:,1]/dx1).astype('i')\n",
    "gx = np.arange(0.5*dx0,1,dx0)\n",
    "gy = np.arange(0.5*dx1,1,dx1)"
   ]
  },
  {
   "cell_type": "code",
   "execution_count": 94,
   "metadata": {
    "collapsed": false,
    "deletable": true,
    "editable": true
   },
   "outputs": [],
   "source": [
    "from collections import defaultdict\n",
    "counts = np.zeros((len(gx),len(gy)))\n",
    "for n in range(len(i)):\n",
    "    try:\n",
    "        counts[i[n]-1][j[n]-1] += 1\n",
    "    except:\n",
    "        print(n)"
   ]
  },
  {
   "cell_type": "code",
   "execution_count": 95,
   "metadata": {
    "collapsed": false,
    "deletable": true,
    "editable": true
   },
   "outputs": [
    {
     "data": {
      "text/plain": [
       "<function matplotlib.pyplot.colorbar>"
      ]
     },
     "execution_count": 95,
     "metadata": {},
     "output_type": "execute_result"
    },
    {
     "data": {
      "image/png": "[encoded data removed]",
      "text/plain": [
       "<matplotlib.figure.Figure at 0x7f2c69c3bbe0>"
      ]
     },
     "metadata": {},
     "output_type": "display_data"
    }
   ],
   "source": [
    "plt.imshow(counts)\n",
    "plt.xlim(300,400)\n",
    "plt.ylim(500,625)\n",
    "plt.colorbar"
   ]
  },
  {
   "cell_type": "code",
   "execution_count": 96,
   "metadata": {
    "collapsed": false,
    "deletable": true,
    "editable": true
   },
   "outputs": [],
   "source": [
    "latlongmap = {}\n",
    "for num in range(len(x)):\n",
    "    latlongmap[(x[num][0], x[num][1])] = (i[num],j[num])"
   ]
  },
  {
   "cell_type": "code",
   "execution_count": 97,
   "metadata": {
    "collapsed": true,
    "deletable": true,
    "editable": true
   },
   "outputs": [],
   "source": [
    "class Pair:\n",
    "    def __init__(self, lat, long):\n",
    "        self.lat = lat\n",
    "        self.long = long\n",
    "\n",
    "    def __hash__(self):\n",
    "        return hash((self.lat, self.long))\n",
    "\n",
    "    def __eq__(self, other):\n",
    "        return (self.lat, self.long) == (other.lat, other.long)"
   ]
  },
  {
   "cell_type": "code",
   "execution_count": 98,
   "metadata": {
    "collapsed": true,
    "deletable": true,
    "editable": true
   },
   "outputs": [],
   "source": [
    "latlongmap = {}\n",
    "for num in range(len(x)):\n",
    "    latlongmap[Pair(x[num][0],x[num][1])] = Pair(i[num],j[num])"
   ]
  },
  {
   "cell_type": "code",
   "execution_count": 99,
   "metadata": {
    "collapsed": false,
    "deletable": true,
    "editable": true
   },
   "outputs": [
    {
     "name": "stderr",
     "output_type": "stream",
     "text": [
      "/opt/conda/lib/python3.5/site-packages/IPython/core/interactiveshell.py:2717: DtypeWarning: Columns (1,2) have mixed types. Specify dtype option on import or set low_memory=False.\n",
      "  interactivity=interactivity, compiler=compiler, result=result)\n"
     ]
    }
   ],
   "source": [
    "apr = pd.read_csv('./uber-raw-data-apr14.csv', sep=',',header=None)\n",
    "apr = apr.values"
   ]
  },
  {
   "cell_type": "code",
   "execution_count": 100,
   "metadata": {
    "collapsed": false,
    "deletable": true,
    "editable": true
   },
   "outputs": [],
   "source": [
    "apr = apr[1:]"
   ]
  },
  {
   "cell_type": "code",
   "execution_count": 101,
   "metadata": {
    "collapsed": false,
    "deletable": true,
    "editable": true
   },
   "outputs": [
    {
     "data": {
      "text/plain": [
       "564516"
      ]
     },
     "execution_count": 101,
     "metadata": {},
     "output_type": "execute_result"
    }
   ],
   "source": [
    "len(apr)"
   ]
  },
  {
   "cell_type": "code",
   "execution_count": 102,
   "metadata": {
    "collapsed": false,
    "deletable": true,
    "editable": true
   },
   "outputs": [],
   "source": [
    "import math\n",
    "def truncate(number, digits) -> float:\n",
    "    stepper = pow(10.0, digits)\n",
    "    return math.trunc(stepper * number) / stepper"
   ]
  },
  {
   "cell_type": "code",
   "execution_count": 103,
   "metadata": {
    "collapsed": false,
    "deletable": true,
    "editable": true
   },
   "outputs": [],
   "source": [
    "f = open('april_parsed.csv','w');\n",
    "for i in range(len(apr)):\n",
    "   \n",
    "    x = truncate(float(apr[i][1]),3)\n",
    "    y = truncate(float(apr[i][2]),3)\n",
    "    if(Pair(x,y) in latlongmap):\n",
    "        grid =  latlongmap[Pair(x,y)]\n",
    "        #print(grid.lat)\n",
    "        #print(grid.long)\n",
    "        try:\n",
    "            row = apr[i]\n",
    "            times = row[0][:-5]+'00:00'\n",
    "            #print(times)\n",
    "            d = parser.parse(times)\n",
    "            timestamp = int(time.mktime(d.timetuple()))\n",
    "            #print(timestamp)\n",
    "            format(grid.lat)\n",
    "            format(grid.long)\n",
    "            f.write(str(timestamp)+','+ format(grid.lat) +','+ format(grid.long))\n",
    "            f.write('\\n')\n",
    "        except:\n",
    "            pass\n",
    "f.close()\n",
    "#print(count)"
   ]
  },
  {
   "cell_type": "code",
   "execution_count": 104,
   "metadata": {
    "collapsed": false,
    "deletable": true,
    "editable": true
   },
   "outputs": [],
   "source": [
    "file1 = pd.read_csv('./april_parsed.csv', sep=',',header=None)"
   ]
  },
  {
   "cell_type": "code",
   "execution_count": 105,
   "metadata": {
    "collapsed": false,
    "deletable": true,
    "editable": true
   },
   "outputs": [],
   "source": [
    "y = file1.values"
   ]
  },
  {
   "cell_type": "code",
   "execution_count": null,
   "metadata": {
    "collapsed": false,
    "deletable": true,
    "editable": true
   },
   "outputs": [],
   "source": [
    "#conaitns a hashMap of latlon as key and value as hashmap of epoch time and number of rides\n",
    "\"\"\"bin_map = {}\n",
    "for i in range(len(y)):\n",
    "    location = Pair(y[i][1],y[i][2])\n",
    "    if(location in bin_map):\n",
    "        time_map = bin_map[location];\n",
    "        time = y[i][0]\n",
    "        if(time in time_map):\n",
    "            count = time_map[time]\n",
    "            time_map[time] = count + 1;\n",
    "        else:\n",
    "            time_map = {}\n",
    "            time_map[time] = 1;\n",
    "    else:\n",
    "        time_map = {}\n",
    "        time_map[time] = 1;\n",
    "        bin_map[location] = time_map   \"\"\""
   ]
  },
  {
   "cell_type": "code",
   "execution_count": 106,
   "metadata": {
    "collapsed": false,
    "deletable": true,
    "editable": true
   },
   "outputs": [],
   "source": [
    "#conaitns a hashMap of (lat,lon,epoch time) as key and number of rides as value\n",
    "bin_map = {}\n",
    "for i in range(len(y)):\n",
    "    t = (y[i][1],y[i][2],y[i][0])\n",
    "    if(t in bin_map):\n",
    "        count = bin_map[t]\n",
    "        bin_map[t] = count + 1;\n",
    "    else:\n",
    "        bin_map[t] = 1;"
   ]
  },
  {
   "cell_type": "code",
   "execution_count": 107,
   "metadata": {
    "collapsed": false,
    "deletable": true,
    "editable": true
   },
   "outputs": [
    {
     "data": {
      "text/plain": [
       "RandomForestRegressor(bootstrap=True, criterion='mse', max_depth=None,\n",
       "           max_features='auto', max_leaf_nodes=None,\n",
       "           min_impurity_split=1e-07, min_samples_leaf=1,\n",
       "           min_samples_split=1, min_weight_fraction_leaf=0.0,\n",
       "           n_estimators=10, n_jobs=1, oob_score=False, random_state=None,\n",
       "           verbose=0, warm_start=False)"
      ]
     },
     "execution_count": 107,
     "metadata": {},
     "output_type": "execute_result"
    }
   ],
   "source": [
    "apr_train_points = []\n",
    "apr_train_labels = []\n",
    "\n",
    "for key, value in bin_map.items():\n",
    "    apr_train_points.append(key)\n",
    "    apr_train_labels.append(value)\n",
    "\n",
    "aX = np.asarray(apr_train_points) \n",
    "ay = np.asarray(apr_train_labels)\n",
    "\n",
    "aprRegressor = RandomForestRegressor(min_samples_split=1)\n",
    "aprRegressor.fit(aX, ay)"
   ]
  },
  {
   "cell_type": "code",
   "execution_count": 108,
   "metadata": {
    "collapsed": false,
    "deletable": true,
    "editable": true
   },
   "outputs": [
    {
     "name": "stderr",
     "output_type": "stream",
     "text": [
      "/opt/conda/lib/python3.5/site-packages/IPython/core/interactiveshell.py:2717: DtypeWarning: Columns (1,2) have mixed types. Specify dtype option on import or set low_memory=False.\n",
      "  interactivity=interactivity, compiler=compiler, result=result)\n"
     ]
    },
    {
     "name": "stdout",
     "output_type": "stream",
     "text": [
      "474995\n"
     ]
    }
   ],
   "source": [
    "#parsed may.csv file and create may_parsed.csv\n",
    "\n",
    "may = pd.read_csv('./uber-raw-data-may14.csv', sep=',',header=None)\n",
    "may = may.values\n",
    "may = may[1:] #remove the header\n",
    "\n",
    "f = open('may_parsed.csv','w');\n",
    "\n",
    "for i in range(len(may)):\n",
    "   \n",
    "    x = truncate(float(may[i][1]),3)\n",
    "    y = truncate(float(may[i][2]),3)\n",
    "    if(Pair(x,y) in latlongmap):\n",
    "        grid =  latlongmap[Pair(x,y)]\n",
    "        count = count + 1;\n",
    "        try:\n",
    "            row = may[i]\n",
    "            times = row[0][:-5]+'00:00'\n",
    "            d = parser.parse(times)\n",
    "            timestamp = int(time.mktime(d.timetuple()))\n",
    "            format(grid.lat)\n",
    "            format(grid.long)\n",
    "            f.write(str(timestamp)+','+ format(grid.lat) +','+ format(grid.long))\n",
    "            f.write('\\n')\n",
    "        except:\n",
    "            pass\n",
    "\n",
    "f.close()\n",
    "print(count)"
   ]
  },
  {
   "cell_type": "code",
   "execution_count": 109,
   "metadata": {
    "collapsed": true,
    "deletable": true,
    "editable": true
   },
   "outputs": [],
   "source": [
    "#read the parsed may file \n",
    "may_file = pd.read_csv('./may_parsed.csv', sep=',',header=None)\n",
    "may_values  = may_file.values\n",
    "may_map = {}\n",
    "for i in range(len(may_values)):\n",
    "    t = (may_values[i][1],may_values[i][2],may_values[i][0])\n",
    "    if(t in may_map):\n",
    "        count = may_map[t]\n",
    "        may_map[t] = count + 1;\n",
    "    else:\n",
    "        may_map[t] = 1;       \n",
    "\n",
    "may_test_points = []\n",
    "may_test_labels = []\n",
    "\n",
    "count = 0\n",
    "for key, value in may_map.items():\n",
    "    count = count + 1\n",
    "    may_test_points.append(key)\n",
    "    may_test_labels.append(value)\n",
    "    if(count == 1000):\n",
    "        break\n",
    "\n",
    "#predications for may 1000 values\n",
    "test_points_np = np.asarray(may_test_points)\n",
    "x = aprRegressor.predict(test_points_np)\n",
    "true_labels = np.asarray(may_test_labels)\n",
    "\n",
    "delta = x-true_labels\n",
    "mean = np.mean(delta)\n",
    "std = np.std(delta)\n",
    "var = np.var(delta)"
   ]
  },
  {
   "cell_type": "code",
   "execution_count": 110,
   "metadata": {
    "collapsed": false,
    "deletable": true,
    "editable": true
   },
   "outputs": [
    {
     "data": {
      "text/plain": [
       "1.566423796422922"
      ]
     },
     "execution_count": 110,
     "metadata": {},
     "output_type": "execute_result"
    }
   ],
   "source": [
    "std"
   ]
  },
  {
   "cell_type": "code",
   "execution_count": 114,
   "metadata": {
    "collapsed": false,
    "deletable": true,
    "editable": true
   },
   "outputs": [
    {
     "name": "stdout",
     "output_type": "stream",
     "text": [
      "86.4\n"
     ]
    }
   ],
   "source": [
    "true_count = 0\n",
    "for i in delta.tolist():\n",
    "    if abs(i) <= 2:\n",
    "        true_count+=1\n",
    "\n",
    "print(true_count*100/len(delta))"
   ]
  }
 ],
 "metadata": {
  "kernelspec": {
   "display_name": "Python 3",
   "language": "python",
   "name": "python3"
  },
  "language_info": {
   "codemirror_mode": {
    "name": "ipython",
    "version": 3
   },
   "file_extension": ".py",
   "mimetype": "text/x-python",
   "name": "python",
   "nbconvert_exporter": "python",
   "pygments_lexer": "ipython3",
   "version": "3.5.2"
  }
 },
 "nbformat": 4,
 "nbformat_minor": 2
}

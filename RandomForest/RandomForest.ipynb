{
 "cells": [
  {
   "cell_type": "code",
   "execution_count": 1,
   "metadata": {
    "collapsed": false
   },
   "outputs": [],
   "source": [
    "train_points = []\n",
    "train_labels = []\n",
    "with open(\"april_hourly_training_ds.csv\", \"r\") as ins:\n",
    "    for line in ins:\n",
    "        tokens = line.split(',')\n",
    "        train_points.append( (float(tokens[0].strip()),float(tokens[1].strip()),int(tokens[2].strip())) )\n",
    "        train_labels.append(float(tokens[3].strip()))\n",
    "\n",
    "test_points = []\n",
    "test_labels = []\n",
    "with open(\"april_hourly_validation_ds.csv\", \"r\") as ins:\n",
    "    for line in ins:\n",
    "        tokens = line.split(',')\n",
    "        test_points.append( (float(tokens[0].strip()),float(tokens[1].strip()),int(tokens[2].strip())) )\n",
    "        test_labels.append(float(tokens[3].strip()))\n",
    "\n",
    "    "
   ]
  },
  {
   "cell_type": "code",
   "execution_count": 2,
   "metadata": {
    "collapsed": false
   },
   "outputs": [
    {
     "data": {
      "text/plain": [
       "RandomForestRegressor(bootstrap=True, criterion='mse', max_depth=None,\n",
       "           max_features='auto', max_leaf_nodes=None,\n",
       "           min_impurity_split=1e-07, min_samples_leaf=1,\n",
       "           min_samples_split=1, min_weight_fraction_leaf=0.0,\n",
       "           n_estimators=10, n_jobs=1, oob_score=False, random_state=None,\n",
       "           verbose=0, warm_start=False)"
      ]
     },
     "execution_count": 2,
     "metadata": {},
     "output_type": "execute_result"
    }
   ],
   "source": [
    "import numpy as np\n",
    "from sklearn.preprocessing import LabelEncoder  \n",
    "from sklearn.ensemble import RandomForestRegressor\n",
    "\n",
    "X = np.asarray(train_points) \n",
    "y = np.asarray(train_labels)\n",
    "\n",
    "# transform 1st column to numbers\n",
    "#X[:, 0] = LabelEncoder().fit_transform(X[:,0]) \n",
    "\n",
    "regressor = RandomForestRegressor(min_samples_split=1)\n",
    "regressor.fit(X, y)"
   ]
  },
  {
   "cell_type": "code",
   "execution_count": 3,
   "metadata": {
    "collapsed": false
   },
   "outputs": [],
   "source": [
    "test_points_np = np.asarray(test_points)\n",
    "x = regressor.predict(test_points_np)"
   ]
  },
  {
   "cell_type": "code",
   "execution_count": 4,
   "metadata": {
    "collapsed": false
   },
   "outputs": [
    {
     "name": "stdout",
     "output_type": "stream",
     "text": [
      "[  3.3   4.5  12.1 ...,   1.9   2.    2.4]\n"
     ]
    }
   ],
   "source": [
    "print(x)"
   ]
  },
  {
   "cell_type": "code",
   "execution_count": 6,
   "metadata": {
    "collapsed": false
   },
   "outputs": [],
   "source": [
    "tes = np.asarray(test_labels)"
   ]
  },
  {
   "cell_type": "code",
   "execution_count": 7,
   "metadata": {
    "collapsed": false
   },
   "outputs": [
    {
     "name": "stdout",
     "output_type": "stream",
     "text": [
      "[ 2.3 -3.5  9.1 ..., -1.1  1.   1.4]\n"
     ]
    }
   ],
   "source": [
    "print(x-tes)"
   ]
  },
  {
   "cell_type": "code",
   "execution_count": 11,
   "metadata": {
    "collapsed": false
   },
   "outputs": [],
   "source": [
    "a = np.floor((x-tes))"
   ]
  },
  {
   "cell_type": "code",
   "execution_count": 12,
   "metadata": {
    "collapsed": false
   },
   "outputs": [
    {
     "name": "stdout",
     "output_type": "stream",
     "text": [
      "[ 2. -4.  9. ..., -2.  1.  1.]\n"
     ]
    }
   ],
   "source": [
    "print(a)"
   ]
  },
  {
   "cell_type": "code",
   "execution_count": 19,
   "metadata": {
    "collapsed": false
   },
   "outputs": [
    {
     "name": "stdout",
     "output_type": "stream",
     "text": [
      "89.21412396209008\n"
     ]
    }
   ],
   "source": [
    "true_count = 0\n",
    "for i in a.tolist():\n",
    "    if abs(i) <=5:\n",
    "        true_count+=1\n",
    "\n",
    "print(true_count*100/len(a))"
   ]
  },
  {
   "cell_type": "code",
   "execution_count": null,
   "metadata": {
    "collapsed": true
   },
   "outputs": [],
   "source": []
  }
 ],
 "metadata": {
  "kernelspec": {
   "display_name": "Python 3",
   "language": "python",
   "name": "python3"
  },
  "language_info": {
   "codemirror_mode": {
    "name": "ipython",
    "version": 3
   },
   "file_extension": ".py",
   "mimetype": "text/x-python",
   "name": "python",
   "nbconvert_exporter": "python",
   "pygments_lexer": "ipython3",
   "version": "3.5.2"
  }
 },
 "nbformat": 4,
 "nbformat_minor": 2
}
